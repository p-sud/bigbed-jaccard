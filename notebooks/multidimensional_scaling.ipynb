{
 "nbformat": 4,
 "nbformat_minor": 2,
 "metadata": {
  "language_info": {
   "name": "python",
   "codemirror_mode": {
    "name": "ipython",
    "version": 3
   },
   "version": "3.8.2-final"
  },
  "orig_nbformat": 2,
  "file_extension": ".py",
  "mimetype": "text/x-python",
  "name": "python",
  "npconvert_exporter": "python",
  "pygments_lexer": "ipython3",
  "version": 3,
  "kernelspec": {
   "name": "python3",
   "display_name": "Python 3"
  }
 },
 "cells": [
  {
   "cell_type": "markdown",
   "metadata": {},
   "source": [
    "# Multidimensional scaling for bigBed Jaccard simililarity matrix\n",
    "\n",
    "In this notebook we will try to come up with some notion of Euclidean distance for the Jaccard similarities we have computed between all of the bigBed pairs. Also it would be cool if we could do some clustering to see if we can recapitulate features of the data. Biclustering"
   ]
  },
  {
   "cell_type": "code",
   "execution_count": 17,
   "metadata": {},
   "outputs": [],
   "source": [
    "import numpy as np\n",
    "import pandas as pd\n",
    "from sklearn.preprocessing import LabelEncoder"
   ]
  },
  {
   "cell_type": "markdown",
   "metadata": {},
   "source": [
    "Here, `metadata` is a file report TSV from the [ENCODE portal](https://www.encodeproject.org). `data` is a TSV file containing pairs of file IDs and the computed jaccard values."
   ]
  },
  {
   "cell_type": "code",
   "execution_count": 9,
   "metadata": {},
   "outputs": [],
   "source": [
    "metadata = pd.read_csv(\"../data/file_report_2020_4_15_2h_50m.tsv\", sep=\"\\t\", header=1)\n",
    "data = pd.read_csv(\"../data/jaccard.tsv\", sep=\"\\t\")"
   ]
  },
  {
   "cell_type": "markdown",
   "metadata": {},
   "source": [
    "We'll need to add a column corresponding to the file accessions. You can avoid this if you include the accession in the report you download from ENCODE."
   ]
  },
  {
   "cell_type": "code",
   "execution_count": 13,
   "metadata": {},
   "outputs": [
    {
     "output_type": "execute_result",
     "data": {
      "text/plain": "                    ID                    Dataset Biological replicates  \\\n0  /files/ENCFF145CKY/  /experiments/ENCSR331HPA/                   1,2   \n1  /files/ENCFF405KVS/  /experiments/ENCSR000EGT/                   1,2   \n2  /files/ENCFF483DQZ/  /experiments/ENCSR874HSH/                   1,2   \n3  /files/ENCFF749YTS/  /experiments/ENCSR739IHN/                   1,2   \n4  /files/ENCFF272FFT/  /experiments/ENCSR086YIH/                   1,2   \n\n  Biosample name Target label  \\\n0        GM12878        GABPA   \n1           K562         IRF1   \n2        OCI-LY1        H2AFZ   \n3        GM12878        TBX21   \n4          MM.1S      H3K4me2   \n\n                                      Cloud metadata  \\\n0  {'md5sum_base64': 'KU4lHzdxxDMQXy0jPcCFdQ==', ...   \n1  {'md5sum_base64': '4UetgEthvZJtWG0SY74a7A==', ...   \n2  {'md5sum_base64': 'F1Au9eRLKW1AoUtGTbaObw==', ...   \n3  {'md5sum_base64': 'U1nk0FgMu7PQkXCEMvuxPA==', ...   \n4  {'md5sum_base64': 'mwUvruHFGkJpp19Mn3QhMg==', ...   \n\n                        Biosample ontology    Accession  \n0  /biosample-types/cell_line_EFO_0002784/  ENCFF145CKY  \n1  /biosample-types/cell_line_EFO_0002067/  ENCFF405KVS  \n2  /biosample-types/cell_line_EFO_0005907/  ENCFF483DQZ  \n3  /biosample-types/cell_line_EFO_0002784/  ENCFF749YTS  \n4  /biosample-types/cell_line_EFO_0005724/  ENCFF272FFT  ",
      "text/html": "<div>\n<style scoped>\n    .dataframe tbody tr th:only-of-type {\n        vertical-align: middle;\n    }\n\n    .dataframe tbody tr th {\n        vertical-align: top;\n    }\n\n    .dataframe thead th {\n        text-align: right;\n    }\n</style>\n<table border=\"1\" class=\"dataframe\">\n  <thead>\n    <tr style=\"text-align: right;\">\n      <th></th>\n      <th>ID</th>\n      <th>Dataset</th>\n      <th>Biological replicates</th>\n      <th>Biosample name</th>\n      <th>Target label</th>\n      <th>Cloud metadata</th>\n      <th>Biosample ontology</th>\n      <th>Accession</th>\n    </tr>\n  </thead>\n  <tbody>\n    <tr>\n      <th>0</th>\n      <td>/files/ENCFF145CKY/</td>\n      <td>/experiments/ENCSR331HPA/</td>\n      <td>1,2</td>\n      <td>GM12878</td>\n      <td>GABPA</td>\n      <td>{'md5sum_base64': 'KU4lHzdxxDMQXy0jPcCFdQ==', ...</td>\n      <td>/biosample-types/cell_line_EFO_0002784/</td>\n      <td>ENCFF145CKY</td>\n    </tr>\n    <tr>\n      <th>1</th>\n      <td>/files/ENCFF405KVS/</td>\n      <td>/experiments/ENCSR000EGT/</td>\n      <td>1,2</td>\n      <td>K562</td>\n      <td>IRF1</td>\n      <td>{'md5sum_base64': '4UetgEthvZJtWG0SY74a7A==', ...</td>\n      <td>/biosample-types/cell_line_EFO_0002067/</td>\n      <td>ENCFF405KVS</td>\n    </tr>\n    <tr>\n      <th>2</th>\n      <td>/files/ENCFF483DQZ/</td>\n      <td>/experiments/ENCSR874HSH/</td>\n      <td>1,2</td>\n      <td>OCI-LY1</td>\n      <td>H2AFZ</td>\n      <td>{'md5sum_base64': 'F1Au9eRLKW1AoUtGTbaObw==', ...</td>\n      <td>/biosample-types/cell_line_EFO_0005907/</td>\n      <td>ENCFF483DQZ</td>\n    </tr>\n    <tr>\n      <th>3</th>\n      <td>/files/ENCFF749YTS/</td>\n      <td>/experiments/ENCSR739IHN/</td>\n      <td>1,2</td>\n      <td>GM12878</td>\n      <td>TBX21</td>\n      <td>{'md5sum_base64': 'U1nk0FgMu7PQkXCEMvuxPA==', ...</td>\n      <td>/biosample-types/cell_line_EFO_0002784/</td>\n      <td>ENCFF749YTS</td>\n    </tr>\n    <tr>\n      <th>4</th>\n      <td>/files/ENCFF272FFT/</td>\n      <td>/experiments/ENCSR086YIH/</td>\n      <td>1,2</td>\n      <td>MM.1S</td>\n      <td>H3K4me2</td>\n      <td>{'md5sum_base64': 'mwUvruHFGkJpp19Mn3QhMg==', ...</td>\n      <td>/biosample-types/cell_line_EFO_0005724/</td>\n      <td>ENCFF272FFT</td>\n    </tr>\n  </tbody>\n</table>\n</div>"
     },
     "metadata": {},
     "execution_count": 13
    }
   ],
   "source": [
    "metadata[\"Accession\"] = metadata.ID.str.split(\"/\").map(lambda elem: elem[-2])\n",
    "metadata.head()"
   ]
  },
  {
   "cell_type": "code",
   "execution_count": 10,
   "metadata": {},
   "outputs": [
    {
     "output_type": "execute_result",
     "data": {
      "text/plain": "           id1          id2  jaccard\n0  ENCFF145CKY  ENCFF405KVS     0.02\n1  ENCFF145CKY  ENCFF483DQZ     0.00\n2  ENCFF145CKY  ENCFF749YTS     0.00\n3  ENCFF145CKY  ENCFF272FFT     0.01\n4  ENCFF145CKY  ENCFF198STH     0.00",
      "text/html": "<div>\n<style scoped>\n    .dataframe tbody tr th:only-of-type {\n        vertical-align: middle;\n    }\n\n    .dataframe tbody tr th {\n        vertical-align: top;\n    }\n\n    .dataframe thead th {\n        text-align: right;\n    }\n</style>\n<table border=\"1\" class=\"dataframe\">\n  <thead>\n    <tr style=\"text-align: right;\">\n      <th></th>\n      <th>id1</th>\n      <th>id2</th>\n      <th>jaccard</th>\n    </tr>\n  </thead>\n  <tbody>\n    <tr>\n      <th>0</th>\n      <td>ENCFF145CKY</td>\n      <td>ENCFF405KVS</td>\n      <td>0.02</td>\n    </tr>\n    <tr>\n      <th>1</th>\n      <td>ENCFF145CKY</td>\n      <td>ENCFF483DQZ</td>\n      <td>0.00</td>\n    </tr>\n    <tr>\n      <th>2</th>\n      <td>ENCFF145CKY</td>\n      <td>ENCFF749YTS</td>\n      <td>0.00</td>\n    </tr>\n    <tr>\n      <th>3</th>\n      <td>ENCFF145CKY</td>\n      <td>ENCFF272FFT</td>\n      <td>0.01</td>\n    </tr>\n    <tr>\n      <th>4</th>\n      <td>ENCFF145CKY</td>\n      <td>ENCFF198STH</td>\n      <td>0.00</td>\n    </tr>\n  </tbody>\n</table>\n</div>"
     },
     "metadata": {},
     "execution_count": 10
    }
   ],
   "source": [
    "data.head()"
   ]
  },
  {
   "cell_type": "markdown",
   "metadata": {},
   "source": [
    "Let's encode the file accessions as integer labels. That way we can use the transform the file IDs into numbers we can directly use to index into the similarity matrix we want to construct. We need to concat the columns because one of the file IDs will be missing from each one."
   ]
  },
  {
   "cell_type": "code",
   "execution_count": 36,
   "metadata": {},
   "outputs": [
    {
     "output_type": "execute_result",
     "data": {
      "text/plain": "LabelEncoder()"
     },
     "metadata": {},
     "execution_count": 36
    }
   ],
   "source": [
    "label_encoder = LabelEncoder()\n",
    "label_encoder.fit(np.concatenate((data.id1.values, data.id2.values)))"
   ]
  },
  {
   "cell_type": "code",
   "execution_count": 37,
   "metadata": {},
   "outputs": [],
   "source": [
    "similarity = np.zeros((metadata.shape[0], metadata.shape[0]))\n",
    "x_idxs = label_encoder.transform(data.id1.values)\n",
    "y_idxs = label_encoder.transform(data.id2.values)\n",
    "similarity[x_idxs, y_idxs] = data.jaccard.values"
   ]
  },
  {
   "cell_type": "code",
   "execution_count": 40,
   "metadata": {},
   "outputs": [
    {
     "output_type": "execute_result",
     "data": {
      "text/plain": "(2677, 2677)"
     },
     "metadata": {},
     "execution_count": 40
    }
   ],
   "source": [
    "similarity.shape"
   ]
  },
  {
   "cell_type": "code",
   "execution_count": 38,
   "metadata": {},
   "outputs": [
    {
     "output_type": "execute_result",
     "data": {
      "text/plain": "array([1818])"
     },
     "metadata": {},
     "execution_count": 38
    }
   ],
   "source": [
    "label_encoder.transform([\"ENCFF675QHY\"])"
   ]
  },
  {
   "cell_type": "code",
   "execution_count": null,
   "metadata": {},
   "outputs": [],
   "source": []
  }
 ]
}